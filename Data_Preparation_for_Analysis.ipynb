{
  "nbformat": 4,
  "nbformat_minor": 0,
  "metadata": {
    "colab": {
      "name": "Data Preparation for Analysis.ipynb",
      "version": "0.3.2",
      "provenance": []
    },
    "kernelspec": {
      "display_name": "Python 3",
      "language": "python",
      "name": "python3"
    }
  },
  "cells": [
    {
      "metadata": {
        "id": "bm3KFgygQ0fd",
        "colab_type": "code",
        "colab": {}
      },
      "cell_type": "code",
      "source": [
        "#Using a python wrapper to obtain dataset\n",
        "from sodapy import Socrata\n",
        "import calendar\n",
        "import json\n",
        "import pandas as pd\n",
        "from collections import defaultdict\n",
        "import string"
      ],
      "execution_count": 0,
      "outputs": []
    },
    {
      "metadata": {
        "id": "QQC_zLBlQ0fv",
        "colab_type": "code",
        "colab": {},
        "outputId": "05e48c5d-b43a-46e9-cb0f-fecdc87c33f9"
      },
      "cell_type": "code",
      "source": [
        "data_source = \"data.sfgov.org\"\n",
        "client = Socrata(data_source, None)"
      ],
      "execution_count": 0,
      "outputs": [
        {
          "output_type": "stream",
          "text": [
            "WARNING:root:Requests made without an app_token will be subject to strict throttling limits.\n"
          ],
          "name": "stderr"
        }
      ]
    },
    {
      "metadata": {
        "id": "kKIj7w17Q0gG",
        "colab_type": "code",
        "colab": {}
      },
      "cell_type": "code",
      "source": [
        "#MORE_INFO: https://dev.socrata.com/foundry/data.sfgov.org/5m6g-bqm4\n",
        "def get_write_data(file_path, api_key,  month_name):\n",
        "    raw_data = client.get(api_key, month= month_name)\n",
        "    \n",
        "    raw_json=json.dumps(raw_data)\n",
        "    \n",
        "    #strip array brackets\n",
        "    raw_json = raw_json.strip(\"[\")\n",
        "    raw_json = raw_json.strip(\"]\")\n",
        "    \n",
        "    with open(file_path, \"a\") as write_file:\n",
        "        if month_name == \"January\":\n",
        "            write_file.write(\"[\")\n",
        "        \n",
        "        write_file.write(raw_json)\n",
        "        \n",
        "        if month_name != \"DECEMBER\":\n",
        "            write_file.write(\",\")\n",
        "        else:\n",
        "            write_file.write(\"]\")\n",
        "    write_file.close()    "
      ],
      "execution_count": 0,
      "outputs": []
    },
    {
      "metadata": {
        "id": "MXOgLnaBQ0gZ",
        "colab_type": "code",
        "colab": {}
      },
      "cell_type": "code",
      "source": [
        "api_key = \"5m6g-bqm4\"\n",
        "\n",
        "months = []\n",
        "for month in calendar.month_name[1:]:\n",
        "    months.append(month)\n",
        "    months.append(month.upper())\n",
        "    \n",
        "file_path=\"C:/Users/Wollyz/Documents/Computer Science 2/Data Science in Python/noise_rating.json\"\n",
        "\n",
        "for m in months:\n",
        "    get_write_data(file_path, api_key, m)"
      ],
      "execution_count": 0,
      "outputs": []
    },
    {
      "metadata": {
        "id": "UA5AD3tYQ0gn",
        "colab_type": "code",
        "colab": {}
      },
      "cell_type": "code",
      "source": [
        "f1=open(\"C:/Users/Wollyz/Documents/Computer Science 2/Data Science in Python/noise_rating.json\",\"r\")\n",
        "data1 = json.loads(f1.read())\n",
        "f1.close()"
      ],
      "execution_count": 0,
      "outputs": []
    },
    {
      "metadata": {
        "scrolled": false,
        "id": "5hTo-rYTQ0g8",
        "colab_type": "code",
        "colab": {}
      },
      "cell_type": "code",
      "source": [
        "#convert to a frame\n",
        "frame = defaultdict(list)\n",
        "empty_idx = []\n",
        "for data in data1:\n",
        "    #missing values for airline name, give it a default val\n",
        "    if len(data.keys()) < 9:\n",
        "        frame[\"airline\"].append(\"EMPTY\")\n",
        "    for key in data:\n",
        "        if key == \"airline\":\n",
        "            if data[key] == \"ERROR: #N/A\":\n",
        "                break\n",
        "        frame[key].append(data[key])"
      ],
      "execution_count": 0,
      "outputs": []
    },
    {
      "metadata": {
        "id": "ERrgyOq4Q0hJ",
        "colab_type": "code",
        "colab": {}
      },
      "cell_type": "code",
      "source": [
        "#length_dict = {key:len(value) for key, value in frame.items()}\n",
        "#convert airlines with names in lower caps to all upper caps\n",
        "new_airline = []\n",
        "for i in frame[\"airline\"]:\n",
        "    val = i\n",
        "    if i.isupper() == False:\n",
        "        val = i.upper()\n",
        "    new_airline.append(val)\n",
        "\n",
        "v_index = [i for i, x in enumerate(new_airline) if x == \"VOLGA\\xadDNEPR\"]\n",
        "\n",
        "for i in v_index:\n",
        "    new_airline[i] = \"VOLGA-DNEPR\"\n",
        "    \n",
        "frame[\"airline\"] = new_airline\n",
        "\n",
        "unique_airline = []\n",
        "unique_code = []\n",
        "for i, x in enumerate(frame[\"airline\"]):\n",
        "    if x not in unique_airline and x != \"EMPTY\":\n",
        "        unique_airline.append(x)\n",
        "        unique_code.append(frame[\"airline_code\"][i])"
      ],
      "execution_count": 0,
      "outputs": []
    },
    {
      "metadata": {
        "id": "YrNSuh7YQ0hV",
        "colab_type": "code",
        "colab": {}
      },
      "cell_type": "code",
      "source": [
        "#get the rows where the airline field is empty i.e. labelled \"EMPTY\"\n",
        "empty_idx = [i for i, x in enumerate(new_airline) if x == \"EMPTY\"]\n",
        "code_idx = []\n",
        "retrieved_name =[]\n",
        "for idx in empty_idx:\n",
        "    code = frame[\"airline_code\"][idx]\n",
        "    if code in unique_code:\n",
        "        match = unique_code.index(code)\n",
        "        ins = idx, unique_airline[match]\n",
        "        retrieved_name.append(ins)\n",
        "        code_idx.append(idx)\n",
        "\n",
        "#update the names retrieved, \n",
        "for idx, name in retrieved_name:\n",
        "    frame[\"airline\"][idx] = name\n",
        "\n",
        "#delete the ones that were not as there is not enough examples\n",
        "discard_idx = [i for i in empty_idx if i not in code_idx]\n",
        "columns = frame.keys()\n",
        "while(\"EMPTY\" in frame[\"airline\"]):\n",
        "    next_empty = frame[\"airline\"].index(\"EMPTY\")\n",
        "    for col in columns:\n",
        "        del frame[col][next_empty]\n",
        "    "
      ],
      "execution_count": 0,
      "outputs": []
    },
    {
      "metadata": {
        "id": "KqzA3aq7Q0hg",
        "colab_type": "code",
        "colab": {}
      },
      "cell_type": "code",
      "source": [
        "#check if there are airlines with the same aircode but with additional name eg. ETIHAD and ETIHAD AIRWAYS\n",
        "other_idx = []\n",
        "for i in range(len(unique_code)):\n",
        "    code = unique_code[i]\n",
        "    \n",
        "    #get the index where there are more than occureences of the airline code \n",
        "    occ_idx = [j for j, x in enumerate(unique_code) if x == code]\n",
        "    \n",
        "    if len(occ_idx) > 1:\n",
        "        cnt = 0\n",
        "        for o in other_idx:\n",
        "            if i in o:\n",
        "                cnt += 1\n",
        "        if cnt == 0:\n",
        "            other_idx.append(occ_idx)"
      ],
      "execution_count": 0,
      "outputs": []
    },
    {
      "metadata": {
        "id": "v5aHOMBvQ0ht",
        "colab_type": "code",
        "colab": {}
      },
      "cell_type": "code",
      "source": [
        "for org, other in other_idx:\n",
        "    dup_name = unique_airline[other]\n",
        "    org_name = unique_airline[org]\n",
        "    #get the indexes in frame dict. with dup_name\n",
        "    names_idx = [j for j, x in enumerate(frame[\"airline\"]) if x == dup_name]\n",
        "    for idx in names_idx:\n",
        "        frame[\"airline\"][idx] = org_name"
      ],
      "execution_count": 0,
      "outputs": []
    },
    {
      "metadata": {
        "id": "OoW0GvM2Q0h7",
        "colab_type": "code",
        "colab": {}
      },
      "cell_type": "code",
      "source": [
        "for org, other in other_idx:\n",
        "    org_name = unique_airline[org]\n",
        "    unique_airline[other] = org_name"
      ],
      "execution_count": 0,
      "outputs": []
    },
    {
      "metadata": {
        "id": "18F2MzTUQ0iM",
        "colab_type": "code",
        "colab": {}
      },
      "cell_type": "code",
      "source": [
        "all_unique = []\n",
        "for i, x in enumerate(frame[\"airline\"]):\n",
        "    air= frame[\"airline\"][i], frame[\"airline_code\"][i]\n",
        "    all_unique.append(air)\n",
        "    \n",
        "all_unique = set(all_unique)"
      ],
      "execution_count": 0,
      "outputs": []
    },
    {
      "metadata": {
        "id": "hfqQ2Gk8Q0id",
        "colab_type": "code",
        "colab": {},
        "outputId": "3592052d-ae9a-4c06-c13a-51c8f986ccb6"
      },
      "cell_type": "code",
      "source": [
        "#check if there is a mix up in airline code between airline names e.g. CHINA AIRWAYS (CAL) giving CAC which is for AIR CHINA\n",
        "#if the same airline name is given a different aircode not in set e.g US Airline given USA and AWE aircodes\n",
        "all_unique = list(all_unique)\n",
        "mix_airlines = []\n",
        "temp_all = all_unique\n",
        "for name, code in all_unique:\n",
        "    mix_idx = [j for j, x in enumerate(temp_all) if x[0] == name and x[1] != code]\n",
        "    if len(mix_idx) > 0:\n",
        "        mix_airlines.append([all_unique[i] for i in mix_idx])\n",
        "mix_airlines"
      ],
      "execution_count": 0,
      "outputs": [
        {
          "output_type": "execute_result",
          "data": {
            "text/plain": [
              "[[('COMPASS AIRLINES', 'CPZ')],\n",
              " [('KLM ROYAL DUTCH AIRLINES', 'SAS')],\n",
              " [('KALITTA AIR', 'KFS')],\n",
              " [('KLM ROYAL DUTCH AIRLINES', 'KLM')],\n",
              " [('KALITTA AIR', 'CKS')],\n",
              " [('CHINA AIRLINES', 'CAL')],\n",
              " [('COMPASS AIRLINES', 'CMP')],\n",
              " [('US AIRWAYS', 'AWE')],\n",
              " [('US AIRWAYS', 'USA')],\n",
              " [('CHINA EASTERN', 'CES')],\n",
              " [('CHINA EASTERN', 'CSN')],\n",
              " [('CHINA AIRLINES', 'CCA')]]"
            ]
          },
          "metadata": {
            "tags": []
          },
          "execution_count": 10
        }
      ]
    },
    {
      "metadata": {
        "id": "Czww6oJBQ0i1",
        "colab_type": "code",
        "colab": {}
      },
      "cell_type": "code",
      "source": [
        "#STEP 1: find the original air code\n",
        "for m in mix_airlines:\n",
        "    ext = m[0]\n",
        "    ext_name = ext[0]\n",
        "    ext_code = ext[1]\n",
        "    \n",
        "    #get the index for the first occurrence of the name from unique_airline\n",
        "    f_idx = unique_airline.index(ext_name)\n",
        "    \n",
        "    o_code = unique_code[f_idx]\n",
        "    \n",
        "    if ext_code != o_code:\n",
        "    #get the original aircode\n",
        "    \n",
        "        #STEP 2: update air code in frame dict\n",
        "        instances_idx =  [j for j, x in enumerate(frame[\"airline\"]) if x == ext_name]\n",
        "\n",
        "        for idx in instances_idx:\n",
        "            if frame[\"airline_code\"][idx] == ext_code:\n",
        "                frame[\"airline_code\"][idx] = o_code"
      ],
      "execution_count": 0,
      "outputs": []
    },
    {
      "metadata": {
        "id": "rXZoFO5oQ0i_",
        "colab_type": "code",
        "colab": {}
      },
      "cell_type": "code",
      "source": [
        "frame_init = {\"airline\": pd.Series(frame[\"airline\"], dtype=\"str\"),\\\n",
        "              \"airline_code\": pd.Series(frame[\"airline_code\"], dtype=\"str\"),\\\n",
        "              \"exceedances_per_1000_operations\": pd.Series(frame[\"exceedances_per_1000_operations\"], dtype=\"int\"),\\\n",
        "              \"month\": pd.Series(frame[\"month\"], dtype=\"str\"),\\\n",
        "              \"noise_exceedance_quality_rating_score\": pd.Series(frame[\"noise_exceedance_quality_rating_score\"], dtype=\"float\"),\\\n",
        "              \"noise_exceedance_rating\": pd.Series(frame[\"noise_exceedance_rating\"], dtype=\"float\"),\\\n",
        "              \"total_noise_exceedances\": pd.Series(frame[\"total_noise_exceedances\"], dtype=\"int\"),\\\n",
        "              \"total_operations_per_month\": pd.Series(frame[\"total_operations_per_month\"], dtype=\"int\"),\\\n",
        "              \"year\": pd.Series(frame[\"year\"], dtype=\"str\")}\n",
        "\n",
        "rating_table = pd.DataFrame(frame_init)"
      ],
      "execution_count": 0,
      "outputs": []
    },
    {
      "metadata": {
        "id": "nqjjMpWZQ0jI",
        "colab_type": "code",
        "colab": {},
        "outputId": "19d867b7-1e6d-418f-c0c6-a9043c5e9da3"
      },
      "cell_type": "code",
      "source": [
        "rating_table[rating_table[\"airline\"]== \"EMPTY\"]"
      ],
      "execution_count": 0,
      "outputs": [
        {
          "output_type": "execute_result",
          "data": {
            "text/html": [
              "<div>\n",
              "<style>\n",
              "    .dataframe thead tr:only-child th {\n",
              "        text-align: right;\n",
              "    }\n",
              "\n",
              "    .dataframe thead th {\n",
              "        text-align: left;\n",
              "    }\n",
              "\n",
              "    .dataframe tbody tr th {\n",
              "        vertical-align: top;\n",
              "    }\n",
              "</style>\n",
              "<table border=\"1\" class=\"dataframe\">\n",
              "  <thead>\n",
              "    <tr style=\"text-align: right;\">\n",
              "      <th></th>\n",
              "      <th>airline</th>\n",
              "      <th>airline_code</th>\n",
              "      <th>exceedances_per_1000_operations</th>\n",
              "      <th>month</th>\n",
              "      <th>noise_exceedance_quality_rating_score</th>\n",
              "      <th>noise_exceedance_rating</th>\n",
              "      <th>total_noise_exceedances</th>\n",
              "      <th>total_operations_per_month</th>\n",
              "      <th>year</th>\n",
              "    </tr>\n",
              "  </thead>\n",
              "  <tbody>\n",
              "  </tbody>\n",
              "</table>\n",
              "</div>"
            ],
            "text/plain": [
              "Empty DataFrame\n",
              "Columns: [airline, airline_code, exceedances_per_1000_operations, month, noise_exceedance_quality_rating_score, noise_exceedance_rating, total_noise_exceedances, total_operations_per_month, year]\n",
              "Index: []"
            ]
          },
          "metadata": {
            "tags": []
          },
          "execution_count": 13
        }
      ]
    },
    {
      "metadata": {
        "id": "rSzGju1pQ0jU",
        "colab_type": "code",
        "colab": {}
      },
      "cell_type": "code",
      "source": [
        "months_format = calendar.month_name[1:]"
      ],
      "execution_count": 0,
      "outputs": []
    },
    {
      "metadata": {
        "id": "dit-va0PQ0je",
        "colab_type": "code",
        "colab": {}
      },
      "cell_type": "code",
      "source": [
        "#modify e.g. 'APRIL' to 'April'\n",
        "for m in months_format:\n",
        "    month_idx = rating_table.index[rating_table[\"month\"] == m.upper()]\n",
        "    \n",
        "    if len(month_idx > 0):\n",
        "        for idx in month_idx:\n",
        "            rating_table.at[idx, \"month\"] = m"
      ],
      "execution_count": 0,
      "outputs": []
    },
    {
      "metadata": {
        "id": "IMcD8225Q0jn",
        "colab_type": "code",
        "colab": {}
      },
      "cell_type": "code",
      "source": [
        "#remove \"noise_exceeding_rating\"\n",
        "redun_feature = \"noise_exceedance_rating\"\n",
        "cols = [i for i in rating_table.columns if i not in redun_feature]\n",
        "rating_table = rating_table[cols]"
      ],
      "execution_count": 0,
      "outputs": []
    },
    {
      "metadata": {
        "id": "1PDtVdVkQ0jx",
        "colab_type": "code",
        "colab": {},
        "outputId": "ff34b8a4-b593-43cd-e33b-0ca283a72b2c"
      },
      "cell_type": "code",
      "source": [
        "#check for missing values\n",
        "rating_table.isnull().sum()"
      ],
      "execution_count": 0,
      "outputs": [
        {
          "output_type": "execute_result",
          "data": {
            "text/plain": [
              "airline                                  0\n",
              "airline_code                             0\n",
              "exceedances_per_1000_operations          0\n",
              "month                                    0\n",
              "noise_exceedance_quality_rating_score    0\n",
              "total_noise_exceedances                  0\n",
              "total_operations_per_month               0\n",
              "year                                     0\n",
              "dtype: int64"
            ]
          },
          "metadata": {
            "tags": []
          },
          "execution_count": 17
        }
      ]
    },
    {
      "metadata": {
        "id": "6H-xz6sHQ0j-",
        "colab_type": "code",
        "colab": {},
        "outputId": "62433edc-c4dd-47ad-f9ec-7b174179e534"
      },
      "cell_type": "code",
      "source": [
        "rating_table[rating_table[\"airline_code\"] == \"ASQ\"]"
      ],
      "execution_count": 0,
      "outputs": [
        {
          "output_type": "execute_result",
          "data": {
            "text/html": [
              "<div>\n",
              "<style>\n",
              "    .dataframe thead tr:only-child th {\n",
              "        text-align: right;\n",
              "    }\n",
              "\n",
              "    .dataframe thead th {\n",
              "        text-align: left;\n",
              "    }\n",
              "\n",
              "    .dataframe tbody tr th {\n",
              "        vertical-align: top;\n",
              "    }\n",
              "</style>\n",
              "<table border=\"1\" class=\"dataframe\">\n",
              "  <thead>\n",
              "    <tr style=\"text-align: right;\">\n",
              "      <th></th>\n",
              "      <th>airline</th>\n",
              "      <th>airline_code</th>\n",
              "      <th>exceedances_per_1000_operations</th>\n",
              "      <th>month</th>\n",
              "      <th>noise_exceedance_quality_rating_score</th>\n",
              "      <th>total_noise_exceedances</th>\n",
              "      <th>total_operations_per_month</th>\n",
              "      <th>year</th>\n",
              "    </tr>\n",
              "  </thead>\n",
              "  <tbody>\n",
              "    <tr>\n",
              "      <th>45</th>\n",
              "      <td>ATLANTIC SOUTHEAST AIRLINES</td>\n",
              "      <td>ASQ</td>\n",
              "      <td>11</td>\n",
              "      <td>January</td>\n",
              "      <td>9.92</td>\n",
              "      <td>2</td>\n",
              "      <td>176</td>\n",
              "      <td>2007</td>\n",
              "    </tr>\n",
              "    <tr>\n",
              "      <th>1984</th>\n",
              "      <td>ATLANTIC SOUTHEAST AIRLINES</td>\n",
              "      <td>ASQ</td>\n",
              "      <td>9</td>\n",
              "      <td>May</td>\n",
              "      <td>9.94</td>\n",
              "      <td>1</td>\n",
              "      <td>117</td>\n",
              "      <td>2007</td>\n",
              "    </tr>\n",
              "    <tr>\n",
              "      <th>4522</th>\n",
              "      <td>ATLANTIC SOUTHEAST AIRLINES</td>\n",
              "      <td>ASQ</td>\n",
              "      <td>17</td>\n",
              "      <td>October</td>\n",
              "      <td>9.92</td>\n",
              "      <td>1</td>\n",
              "      <td>59</td>\n",
              "      <td>2006</td>\n",
              "    </tr>\n",
              "  </tbody>\n",
              "</table>\n",
              "</div>"
            ],
            "text/plain": [
              "                          airline airline_code  \\\n",
              "45    ATLANTIC SOUTHEAST AIRLINES          ASQ   \n",
              "1984  ATLANTIC SOUTHEAST AIRLINES          ASQ   \n",
              "4522  ATLANTIC SOUTHEAST AIRLINES          ASQ   \n",
              "\n",
              "      exceedances_per_1000_operations    month  \\\n",
              "45                                 11  January   \n",
              "1984                                9      May   \n",
              "4522                               17  October   \n",
              "\n",
              "      noise_exceedance_quality_rating_score  total_noise_exceedances  \\\n",
              "45                                     9.92                        2   \n",
              "1984                                   9.94                        1   \n",
              "4522                                   9.92                        1   \n",
              "\n",
              "      total_operations_per_month  year  \n",
              "45                           176  2007  \n",
              "1984                         117  2007  \n",
              "4522                          59  2006  "
            ]
          },
          "metadata": {
            "tags": []
          },
          "execution_count": 45
        }
      ]
    },
    {
      "metadata": {
        "id": "rsiXu8R4Q0kR",
        "colab_type": "code",
        "colab": {},
        "outputId": "b1c661b2-cb4d-4cc7-ea43-b5d07bdd44f7"
      },
      "cell_type": "code",
      "source": [
        "#descriptive features\n",
        "rating_table.describe()"
      ],
      "execution_count": 0,
      "outputs": [
        {
          "output_type": "execute_result",
          "data": {
            "text/html": [
              "<div>\n",
              "<style>\n",
              "    .dataframe thead tr:only-child th {\n",
              "        text-align: right;\n",
              "    }\n",
              "\n",
              "    .dataframe thead th {\n",
              "        text-align: left;\n",
              "    }\n",
              "\n",
              "    .dataframe tbody tr th {\n",
              "        vertical-align: top;\n",
              "    }\n",
              "</style>\n",
              "<table border=\"1\" class=\"dataframe\">\n",
              "  <thead>\n",
              "    <tr style=\"text-align: right;\">\n",
              "      <th></th>\n",
              "      <th>exceedances_per_1000_operations</th>\n",
              "      <th>noise_exceedance_quality_rating_score</th>\n",
              "      <th>total_noise_exceedances</th>\n",
              "      <th>total_operations_per_month</th>\n",
              "    </tr>\n",
              "  </thead>\n",
              "  <tbody>\n",
              "    <tr>\n",
              "      <th>count</th>\n",
              "      <td>5965.000000</td>\n",
              "      <td>5965.000000</td>\n",
              "      <td>5965.000000</td>\n",
              "      <td>5965.000000</td>\n",
              "    </tr>\n",
              "    <tr>\n",
              "      <th>mean</th>\n",
              "      <td>318.879631</td>\n",
              "      <td>8.532117</td>\n",
              "      <td>42.713998</td>\n",
              "      <td>810.912154</td>\n",
              "    </tr>\n",
              "    <tr>\n",
              "      <th>std</th>\n",
              "      <td>556.745062</td>\n",
              "      <td>2.427520</td>\n",
              "      <td>73.684081</td>\n",
              "      <td>1900.327467</td>\n",
              "    </tr>\n",
              "    <tr>\n",
              "      <th>min</th>\n",
              "      <td>1.000000</td>\n",
              "      <td>0.000000</td>\n",
              "      <td>1.000000</td>\n",
              "      <td>1.000000</td>\n",
              "    </tr>\n",
              "    <tr>\n",
              "      <th>25%</th>\n",
              "      <td>21.000000</td>\n",
              "      <td>8.330000</td>\n",
              "      <td>5.000000</td>\n",
              "      <td>62.000000</td>\n",
              "    </tr>\n",
              "    <tr>\n",
              "      <th>50%</th>\n",
              "      <td>52.000000</td>\n",
              "      <td>9.740000</td>\n",
              "      <td>17.000000</td>\n",
              "      <td>120.000000</td>\n",
              "    </tr>\n",
              "    <tr>\n",
              "      <th>75%</th>\n",
              "      <td>356.000000</td>\n",
              "      <td>9.910000</td>\n",
              "      <td>49.000000</td>\n",
              "      <td>581.000000</td>\n",
              "    </tr>\n",
              "    <tr>\n",
              "      <th>max</th>\n",
              "      <td>4500.000000</td>\n",
              "      <td>10.000000</td>\n",
              "      <td>815.000000</td>\n",
              "      <td>14016.000000</td>\n",
              "    </tr>\n",
              "  </tbody>\n",
              "</table>\n",
              "</div>"
            ],
            "text/plain": [
              "       exceedances_per_1000_operations  noise_exceedance_quality_rating_score  \\\n",
              "count                      5965.000000                            5965.000000   \n",
              "mean                        318.879631                               8.532117   \n",
              "std                         556.745062                               2.427520   \n",
              "min                           1.000000                               0.000000   \n",
              "25%                          21.000000                               8.330000   \n",
              "50%                          52.000000                               9.740000   \n",
              "75%                         356.000000                               9.910000   \n",
              "max                        4500.000000                              10.000000   \n",
              "\n",
              "       total_noise_exceedances  total_operations_per_month  \n",
              "count              5965.000000                 5965.000000  \n",
              "mean                 42.713998                  810.912154  \n",
              "std                  73.684081                 1900.327467  \n",
              "min                   1.000000                    1.000000  \n",
              "25%                   5.000000                   62.000000  \n",
              "50%                  17.000000                  120.000000  \n",
              "75%                  49.000000                  581.000000  \n",
              "max                 815.000000                14016.000000  "
            ]
          },
          "metadata": {
            "tags": []
          },
          "execution_count": 18
        }
      ]
    },
    {
      "metadata": {
        "id": "mzrxOYG1Q0kg",
        "colab_type": "code",
        "colab": {},
        "outputId": "e3f366a6-aeb1-4bc3-9850-171f4dc365c8"
      },
      "cell_type": "code",
      "source": [
        "yearly = rating_table.groupby([\"airline\", \"airline_code\", \"year\"])\n",
        "avg_year = yearly.mean()\n",
        "avg_year"
      ],
      "execution_count": 0,
      "outputs": [
        {
          "output_type": "execute_result",
          "data": {
            "text/html": [
              "<div>\n",
              "<style>\n",
              "    .dataframe thead tr:only-child th {\n",
              "        text-align: right;\n",
              "    }\n",
              "\n",
              "    .dataframe thead th {\n",
              "        text-align: left;\n",
              "    }\n",
              "\n",
              "    .dataframe tbody tr th {\n",
              "        vertical-align: top;\n",
              "    }\n",
              "</style>\n",
              "<table border=\"1\" class=\"dataframe\">\n",
              "  <thead>\n",
              "    <tr style=\"text-align: right;\">\n",
              "      <th></th>\n",
              "      <th></th>\n",
              "      <th></th>\n",
              "      <th>exceedances_per_1000_operations</th>\n",
              "      <th>noise_exceedance_quality_rating_score</th>\n",
              "      <th>total_noise_exceedances</th>\n",
              "      <th>total_operations_per_month</th>\n",
              "    </tr>\n",
              "    <tr>\n",
              "      <th>airline</th>\n",
              "      <th>airline_code</th>\n",
              "      <th>year</th>\n",
              "      <th></th>\n",
              "      <th></th>\n",
              "      <th></th>\n",
              "      <th></th>\n",
              "    </tr>\n",
              "  </thead>\n",
              "  <tbody>\n",
              "    <tr>\n",
              "      <th>ACM AVIATION</th>\n",
              "      <th>BJT</th>\n",
              "      <th>2009</th>\n",
              "      <td>83.000000</td>\n",
              "      <td>9.690000</td>\n",
              "      <td>1.000000</td>\n",
              "      <td>12.000000</td>\n",
              "    </tr>\n",
              "    <tr>\n",
              "      <th rowspan=\"6\" valign=\"top\">AER LINGUS</th>\n",
              "      <th rowspan=\"6\" valign=\"top\">EIN</th>\n",
              "      <th>2008</th>\n",
              "      <td>27.000000</td>\n",
              "      <td>9.902500</td>\n",
              "      <td>1.250000</td>\n",
              "      <td>46.000000</td>\n",
              "    </tr>\n",
              "    <tr>\n",
              "      <th>2009</th>\n",
              "      <td>29.000000</td>\n",
              "      <td>9.890000</td>\n",
              "      <td>1.000000</td>\n",
              "      <td>34.000000</td>\n",
              "    </tr>\n",
              "    <tr>\n",
              "      <th>2014</th>\n",
              "      <td>24.000000</td>\n",
              "      <td>9.890000</td>\n",
              "      <td>1.000000</td>\n",
              "      <td>42.000000</td>\n",
              "    </tr>\n",
              "    <tr>\n",
              "      <th>2015</th>\n",
              "      <td>23.000000</td>\n",
              "      <td>9.760000</td>\n",
              "      <td>1.000000</td>\n",
              "      <td>44.000000</td>\n",
              "    </tr>\n",
              "    <tr>\n",
              "      <th>2017</th>\n",
              "      <td>18.000000</td>\n",
              "      <td>9.883333</td>\n",
              "      <td>1.000000</td>\n",
              "      <td>56.000000</td>\n",
              "    </tr>\n",
              "    <tr>\n",
              "      <th>2018</th>\n",
              "      <td>42.000000</td>\n",
              "      <td>9.780000</td>\n",
              "      <td>2.500000</td>\n",
              "      <td>59.000000</td>\n",
              "    </tr>\n",
              "    <tr>\n",
              "      <th rowspan=\"10\" valign=\"top\">AEROMEXICO</th>\n",
              "      <th rowspan=\"10\" valign=\"top\">AMX</th>\n",
              "      <th>2009</th>\n",
              "      <td>120.818182</td>\n",
              "      <td>9.516364</td>\n",
              "      <td>7.000000</td>\n",
              "      <td>58.909091</td>\n",
              "    </tr>\n",
              "    <tr>\n",
              "      <th>2010</th>\n",
              "      <td>133.916667</td>\n",
              "      <td>9.525833</td>\n",
              "      <td>8.666667</td>\n",
              "      <td>61.250000</td>\n",
              "    </tr>\n",
              "    <tr>\n",
              "      <th>2011</th>\n",
              "      <td>91.666667</td>\n",
              "      <td>9.615000</td>\n",
              "      <td>6.333333</td>\n",
              "      <td>70.083333</td>\n",
              "    </tr>\n",
              "    <tr>\n",
              "      <th>2012</th>\n",
              "      <td>112.083333</td>\n",
              "      <td>9.505833</td>\n",
              "      <td>6.833333</td>\n",
              "      <td>61.416667</td>\n",
              "    </tr>\n",
              "    <tr>\n",
              "      <th>2013</th>\n",
              "      <td>104.166667</td>\n",
              "      <td>9.565833</td>\n",
              "      <td>8.083333</td>\n",
              "      <td>94.916667</td>\n",
              "    </tr>\n",
              "    <tr>\n",
              "      <th>2014</th>\n",
              "      <td>56.916667</td>\n",
              "      <td>9.762500</td>\n",
              "      <td>10.583333</td>\n",
              "      <td>181.916667</td>\n",
              "    </tr>\n",
              "    <tr>\n",
              "      <th>2015</th>\n",
              "      <td>49.583333</td>\n",
              "      <td>9.702500</td>\n",
              "      <td>8.500000</td>\n",
              "      <td>170.250000</td>\n",
              "    </tr>\n",
              "    <tr>\n",
              "      <th>2016</th>\n",
              "      <td>149.083333</td>\n",
              "      <td>9.215833</td>\n",
              "      <td>22.000000</td>\n",
              "      <td>168.333333</td>\n",
              "    </tr>\n",
              "    <tr>\n",
              "      <th>2017</th>\n",
              "      <td>203.750000</td>\n",
              "      <td>8.914167</td>\n",
              "      <td>41.083333</td>\n",
              "      <td>202.333333</td>\n",
              "    </tr>\n",
              "    <tr>\n",
              "      <th>2018</th>\n",
              "      <td>181.750000</td>\n",
              "      <td>8.799167</td>\n",
              "      <td>34.500000</td>\n",
              "      <td>186.500000</td>\n",
              "    </tr>\n",
              "    <tr>\n",
              "      <th>AEROUNION</th>\n",
              "      <th>TNO</th>\n",
              "      <th>2009</th>\n",
              "      <td>1000.000000</td>\n",
              "      <td>5.670000</td>\n",
              "      <td>1.000000</td>\n",
              "      <td>1.000000</td>\n",
              "    </tr>\n",
              "    <tr>\n",
              "      <th rowspan=\"4\" valign=\"top\">AIR BERLIN</th>\n",
              "      <th rowspan=\"4\" valign=\"top\">BER</th>\n",
              "      <th>2011</th>\n",
              "      <td>125.000000</td>\n",
              "      <td>9.510000</td>\n",
              "      <td>2.000000</td>\n",
              "      <td>16.000000</td>\n",
              "    </tr>\n",
              "    <tr>\n",
              "      <th>2012</th>\n",
              "      <td>38.000000</td>\n",
              "      <td>9.860000</td>\n",
              "      <td>1.000000</td>\n",
              "      <td>26.000000</td>\n",
              "    </tr>\n",
              "    <tr>\n",
              "      <th>2016</th>\n",
              "      <td>23.000000</td>\n",
              "      <td>9.910000</td>\n",
              "      <td>1.000000</td>\n",
              "      <td>44.000000</td>\n",
              "    </tr>\n",
              "    <tr>\n",
              "      <th>2017</th>\n",
              "      <td>103.000000</td>\n",
              "      <td>9.610000</td>\n",
              "      <td>6.000000</td>\n",
              "      <td>58.000000</td>\n",
              "    </tr>\n",
              "    <tr>\n",
              "      <th rowspan=\"8\" valign=\"top\">AIR CANADA</th>\n",
              "      <th rowspan=\"8\" valign=\"top\">ACA</th>\n",
              "      <th>2006</th>\n",
              "      <td>15.916667</td>\n",
              "      <td>9.911667</td>\n",
              "      <td>7.166667</td>\n",
              "      <td>468.500000</td>\n",
              "    </tr>\n",
              "    <tr>\n",
              "      <th>2007</th>\n",
              "      <td>20.916667</td>\n",
              "      <td>9.860000</td>\n",
              "      <td>11.750000</td>\n",
              "      <td>511.666667</td>\n",
              "    </tr>\n",
              "    <tr>\n",
              "      <th>2008</th>\n",
              "      <td>12.750000</td>\n",
              "      <td>9.947500</td>\n",
              "      <td>6.166667</td>\n",
              "      <td>477.916667</td>\n",
              "    </tr>\n",
              "    <tr>\n",
              "      <th>2009</th>\n",
              "      <td>22.454545</td>\n",
              "      <td>9.912727</td>\n",
              "      <td>11.545455</td>\n",
              "      <td>494.272727</td>\n",
              "    </tr>\n",
              "    <tr>\n",
              "      <th>2010</th>\n",
              "      <td>15.666667</td>\n",
              "      <td>9.948333</td>\n",
              "      <td>8.333333</td>\n",
              "      <td>495.750000</td>\n",
              "    </tr>\n",
              "    <tr>\n",
              "      <th>2011</th>\n",
              "      <td>20.583333</td>\n",
              "      <td>9.917500</td>\n",
              "      <td>10.250000</td>\n",
              "      <td>482.166667</td>\n",
              "    </tr>\n",
              "    <tr>\n",
              "      <th>2012</th>\n",
              "      <td>25.916667</td>\n",
              "      <td>9.890000</td>\n",
              "      <td>12.500000</td>\n",
              "      <td>465.166667</td>\n",
              "    </tr>\n",
              "    <tr>\n",
              "      <th>2013</th>\n",
              "      <td>27.083333</td>\n",
              "      <td>9.880833</td>\n",
              "      <td>13.750000</td>\n",
              "      <td>484.916667</td>\n",
              "    </tr>\n",
              "    <tr>\n",
              "      <th>...</th>\n",
              "      <th>...</th>\n",
              "      <th>...</th>\n",
              "      <td>...</td>\n",
              "      <td>...</td>\n",
              "      <td>...</td>\n",
              "      <td>...</td>\n",
              "    </tr>\n",
              "    <tr>\n",
              "      <th rowspan=\"3\" valign=\"top\">VOLARIS</th>\n",
              "      <th rowspan=\"3\" valign=\"top\">VOI</th>\n",
              "      <th>2016</th>\n",
              "      <td>103.000000</td>\n",
              "      <td>9.597500</td>\n",
              "      <td>10.000000</td>\n",
              "      <td>97.500000</td>\n",
              "    </tr>\n",
              "    <tr>\n",
              "      <th>2017</th>\n",
              "      <td>36.500000</td>\n",
              "      <td>9.837500</td>\n",
              "      <td>2.500000</td>\n",
              "      <td>69.500000</td>\n",
              "    </tr>\n",
              "    <tr>\n",
              "      <th>2018</th>\n",
              "      <td>149.545455</td>\n",
              "      <td>8.940000</td>\n",
              "      <td>5.727273</td>\n",
              "      <td>39.636364</td>\n",
              "    </tr>\n",
              "    <tr>\n",
              "      <th rowspan=\"3\" valign=\"top\">VOLGA-DNEPR</th>\n",
              "      <th rowspan=\"3\" valign=\"top\">VDA</th>\n",
              "      <th>2007</th>\n",
              "      <td>500.000000</td>\n",
              "      <td>6.510000</td>\n",
              "      <td>1.000000</td>\n",
              "      <td>2.000000</td>\n",
              "    </tr>\n",
              "    <tr>\n",
              "      <th>2017</th>\n",
              "      <td>375.000000</td>\n",
              "      <td>8.335000</td>\n",
              "      <td>2.500000</td>\n",
              "      <td>7.000000</td>\n",
              "    </tr>\n",
              "    <tr>\n",
              "      <th>2018</th>\n",
              "      <td>1000.000000</td>\n",
              "      <td>2.340000</td>\n",
              "      <td>2.000000</td>\n",
              "      <td>2.000000</td>\n",
              "    </tr>\n",
              "    <tr>\n",
              "      <th rowspan=\"11\" valign=\"top\">WESTJET AIRLINES</th>\n",
              "      <th rowspan=\"11\" valign=\"top\">WJA</th>\n",
              "      <th>2006</th>\n",
              "      <td>125.000000</td>\n",
              "      <td>8.970000</td>\n",
              "      <td>1.000000</td>\n",
              "      <td>8.000000</td>\n",
              "    </tr>\n",
              "    <tr>\n",
              "      <th>2009</th>\n",
              "      <td>158.500000</td>\n",
              "      <td>9.360000</td>\n",
              "      <td>2.000000</td>\n",
              "      <td>19.000000</td>\n",
              "    </tr>\n",
              "    <tr>\n",
              "      <th>2010</th>\n",
              "      <td>253.500000</td>\n",
              "      <td>8.970000</td>\n",
              "      <td>11.000000</td>\n",
              "      <td>77.000000</td>\n",
              "    </tr>\n",
              "    <tr>\n",
              "      <th>2011</th>\n",
              "      <td>8.000000</td>\n",
              "      <td>9.970000</td>\n",
              "      <td>1.000000</td>\n",
              "      <td>121.500000</td>\n",
              "    </tr>\n",
              "    <tr>\n",
              "      <th>2012</th>\n",
              "      <td>8.000000</td>\n",
              "      <td>9.970000</td>\n",
              "      <td>1.000000</td>\n",
              "      <td>122.000000</td>\n",
              "    </tr>\n",
              "    <tr>\n",
              "      <th>2013</th>\n",
              "      <td>36.500000</td>\n",
              "      <td>9.846667</td>\n",
              "      <td>4.333333</td>\n",
              "      <td>119.166667</td>\n",
              "    </tr>\n",
              "    <tr>\n",
              "      <th>2014</th>\n",
              "      <td>38.500000</td>\n",
              "      <td>9.850000</td>\n",
              "      <td>4.666667</td>\n",
              "      <td>119.166667</td>\n",
              "    </tr>\n",
              "    <tr>\n",
              "      <th>2015</th>\n",
              "      <td>46.200000</td>\n",
              "      <td>9.678000</td>\n",
              "      <td>5.600000</td>\n",
              "      <td>121.400000</td>\n",
              "    </tr>\n",
              "    <tr>\n",
              "      <th>2016</th>\n",
              "      <td>106.166667</td>\n",
              "      <td>9.610000</td>\n",
              "      <td>12.500000</td>\n",
              "      <td>116.333333</td>\n",
              "    </tr>\n",
              "    <tr>\n",
              "      <th>2017</th>\n",
              "      <td>66.200000</td>\n",
              "      <td>9.688000</td>\n",
              "      <td>12.000000</td>\n",
              "      <td>180.000000</td>\n",
              "    </tr>\n",
              "    <tr>\n",
              "      <th>2018</th>\n",
              "      <td>22.400000</td>\n",
              "      <td>9.888000</td>\n",
              "      <td>4.000000</td>\n",
              "      <td>179.000000</td>\n",
              "    </tr>\n",
              "    <tr>\n",
              "      <th rowspan=\"3\" valign=\"top\">WORLD AIRWAYS</th>\n",
              "      <th rowspan=\"3\" valign=\"top\">WOA</th>\n",
              "      <th>2010</th>\n",
              "      <td>2987.600000</td>\n",
              "      <td>0.476000</td>\n",
              "      <td>40.000000</td>\n",
              "      <td>14.000000</td>\n",
              "    </tr>\n",
              "    <tr>\n",
              "      <th>2011</th>\n",
              "      <td>1764.750000</td>\n",
              "      <td>2.560000</td>\n",
              "      <td>47.250000</td>\n",
              "      <td>26.750000</td>\n",
              "    </tr>\n",
              "    <tr>\n",
              "      <th>2012</th>\n",
              "      <td>1774.700000</td>\n",
              "      <td>2.723000</td>\n",
              "      <td>47.900000</td>\n",
              "      <td>25.300000</td>\n",
              "    </tr>\n",
              "    <tr>\n",
              "      <th rowspan=\"2\" valign=\"top\">WORLDWIDE JET CHARTER</th>\n",
              "      <th rowspan=\"2\" valign=\"top\">WWI</th>\n",
              "      <th>2006</th>\n",
              "      <td>100.000000</td>\n",
              "      <td>9.540000</td>\n",
              "      <td>1.000000</td>\n",
              "      <td>10.000000</td>\n",
              "    </tr>\n",
              "    <tr>\n",
              "      <th>2007</th>\n",
              "      <td>66.500000</td>\n",
              "      <td>9.545000</td>\n",
              "      <td>1.000000</td>\n",
              "      <td>16.000000</td>\n",
              "    </tr>\n",
              "    <tr>\n",
              "      <th rowspan=\"3\" valign=\"top\">WOW AIR</th>\n",
              "      <th rowspan=\"3\" valign=\"top\">WOW</th>\n",
              "      <th>2016</th>\n",
              "      <td>30.000000</td>\n",
              "      <td>9.890000</td>\n",
              "      <td>1.250000</td>\n",
              "      <td>42.000000</td>\n",
              "    </tr>\n",
              "    <tr>\n",
              "      <th>2017</th>\n",
              "      <td>344.400000</td>\n",
              "      <td>8.420000</td>\n",
              "      <td>17.000000</td>\n",
              "      <td>46.300000</td>\n",
              "    </tr>\n",
              "    <tr>\n",
              "      <th>2018</th>\n",
              "      <td>31.500000</td>\n",
              "      <td>9.890000</td>\n",
              "      <td>1.500000</td>\n",
              "      <td>46.500000</td>\n",
              "    </tr>\n",
              "    <tr>\n",
              "      <th rowspan=\"5\" valign=\"top\">XL AIRWAYS</th>\n",
              "      <th rowspan=\"5\" valign=\"top\">XLF</th>\n",
              "      <th>2012</th>\n",
              "      <td>63.000000</td>\n",
              "      <td>9.760000</td>\n",
              "      <td>1.000000</td>\n",
              "      <td>16.000000</td>\n",
              "    </tr>\n",
              "    <tr>\n",
              "      <th>2014</th>\n",
              "      <td>150.666667</td>\n",
              "      <td>9.440000</td>\n",
              "      <td>2.666667</td>\n",
              "      <td>17.333333</td>\n",
              "    </tr>\n",
              "    <tr>\n",
              "      <th>2016</th>\n",
              "      <td>58.500000</td>\n",
              "      <td>9.790000</td>\n",
              "      <td>1.500000</td>\n",
              "      <td>25.500000</td>\n",
              "    </tr>\n",
              "    <tr>\n",
              "      <th>2017</th>\n",
              "      <td>48.333333</td>\n",
              "      <td>9.756667</td>\n",
              "      <td>1.000000</td>\n",
              "      <td>22.666667</td>\n",
              "    </tr>\n",
              "    <tr>\n",
              "      <th>2018</th>\n",
              "      <td>38.000000</td>\n",
              "      <td>9.790000</td>\n",
              "      <td>1.000000</td>\n",
              "      <td>26.000000</td>\n",
              "    </tr>\n",
              "  </tbody>\n",
              "</table>\n",
              "<p>768 rows × 4 columns</p>\n",
              "</div>"
            ],
            "text/plain": [
              "                                         exceedances_per_1000_operations  \\\n",
              "airline               airline_code year                                    \n",
              "ACM AVIATION          BJT          2009                        83.000000   \n",
              "AER LINGUS            EIN          2008                        27.000000   \n",
              "                                   2009                        29.000000   \n",
              "                                   2014                        24.000000   \n",
              "                                   2015                        23.000000   \n",
              "                                   2017                        18.000000   \n",
              "                                   2018                        42.000000   \n",
              "AEROMEXICO            AMX          2009                       120.818182   \n",
              "                                   2010                       133.916667   \n",
              "                                   2011                        91.666667   \n",
              "                                   2012                       112.083333   \n",
              "                                   2013                       104.166667   \n",
              "                                   2014                        56.916667   \n",
              "                                   2015                        49.583333   \n",
              "                                   2016                       149.083333   \n",
              "                                   2017                       203.750000   \n",
              "                                   2018                       181.750000   \n",
              "AEROUNION             TNO          2009                      1000.000000   \n",
              "AIR BERLIN            BER          2011                       125.000000   \n",
              "                                   2012                        38.000000   \n",
              "                                   2016                        23.000000   \n",
              "                                   2017                       103.000000   \n",
              "AIR CANADA            ACA          2006                        15.916667   \n",
              "                                   2007                        20.916667   \n",
              "                                   2008                        12.750000   \n",
              "                                   2009                        22.454545   \n",
              "                                   2010                        15.666667   \n",
              "                                   2011                        20.583333   \n",
              "                                   2012                        25.916667   \n",
              "                                   2013                        27.083333   \n",
              "...                                                                  ...   \n",
              "VOLARIS               VOI          2016                       103.000000   \n",
              "                                   2017                        36.500000   \n",
              "                                   2018                       149.545455   \n",
              "VOLGA-DNEPR           VDA          2007                       500.000000   \n",
              "                                   2017                       375.000000   \n",
              "                                   2018                      1000.000000   \n",
              "WESTJET AIRLINES      WJA          2006                       125.000000   \n",
              "                                   2009                       158.500000   \n",
              "                                   2010                       253.500000   \n",
              "                                   2011                         8.000000   \n",
              "                                   2012                         8.000000   \n",
              "                                   2013                        36.500000   \n",
              "                                   2014                        38.500000   \n",
              "                                   2015                        46.200000   \n",
              "                                   2016                       106.166667   \n",
              "                                   2017                        66.200000   \n",
              "                                   2018                        22.400000   \n",
              "WORLD AIRWAYS         WOA          2010                      2987.600000   \n",
              "                                   2011                      1764.750000   \n",
              "                                   2012                      1774.700000   \n",
              "WORLDWIDE JET CHARTER WWI          2006                       100.000000   \n",
              "                                   2007                        66.500000   \n",
              "WOW AIR               WOW          2016                        30.000000   \n",
              "                                   2017                       344.400000   \n",
              "                                   2018                        31.500000   \n",
              "XL AIRWAYS            XLF          2012                        63.000000   \n",
              "                                   2014                       150.666667   \n",
              "                                   2016                        58.500000   \n",
              "                                   2017                        48.333333   \n",
              "                                   2018                        38.000000   \n",
              "\n",
              "                                         noise_exceedance_quality_rating_score  \\\n",
              "airline               airline_code year                                          \n",
              "ACM AVIATION          BJT          2009                               9.690000   \n",
              "AER LINGUS            EIN          2008                               9.902500   \n",
              "                                   2009                               9.890000   \n",
              "                                   2014                               9.890000   \n",
              "                                   2015                               9.760000   \n",
              "                                   2017                               9.883333   \n",
              "                                   2018                               9.780000   \n",
              "AEROMEXICO            AMX          2009                               9.516364   \n",
              "                                   2010                               9.525833   \n",
              "                                   2011                               9.615000   \n",
              "                                   2012                               9.505833   \n",
              "                                   2013                               9.565833   \n",
              "                                   2014                               9.762500   \n",
              "                                   2015                               9.702500   \n",
              "                                   2016                               9.215833   \n",
              "                                   2017                               8.914167   \n",
              "                                   2018                               8.799167   \n",
              "AEROUNION             TNO          2009                               5.670000   \n",
              "AIR BERLIN            BER          2011                               9.510000   \n",
              "                                   2012                               9.860000   \n",
              "                                   2016                               9.910000   \n",
              "                                   2017                               9.610000   \n",
              "AIR CANADA            ACA          2006                               9.911667   \n",
              "                                   2007                               9.860000   \n",
              "                                   2008                               9.947500   \n",
              "                                   2009                               9.912727   \n",
              "                                   2010                               9.948333   \n",
              "                                   2011                               9.917500   \n",
              "                                   2012                               9.890000   \n",
              "                                   2013                               9.880833   \n",
              "...                                                                        ...   \n",
              "VOLARIS               VOI          2016                               9.597500   \n",
              "                                   2017                               9.837500   \n",
              "                                   2018                               8.940000   \n",
              "VOLGA-DNEPR           VDA          2007                               6.510000   \n",
              "                                   2017                               8.335000   \n",
              "                                   2018                               2.340000   \n",
              "WESTJET AIRLINES      WJA          2006                               8.970000   \n",
              "                                   2009                               9.360000   \n",
              "                                   2010                               8.970000   \n",
              "                                   2011                               9.970000   \n",
              "                                   2012                               9.970000   \n",
              "                                   2013                               9.846667   \n",
              "                                   2014                               9.850000   \n",
              "                                   2015                               9.678000   \n",
              "                                   2016                               9.610000   \n",
              "                                   2017                               9.688000   \n",
              "                                   2018                               9.888000   \n",
              "WORLD AIRWAYS         WOA          2010                               0.476000   \n",
              "                                   2011                               2.560000   \n",
              "                                   2012                               2.723000   \n",
              "WORLDWIDE JET CHARTER WWI          2006                               9.540000   \n",
              "                                   2007                               9.545000   \n",
              "WOW AIR               WOW          2016                               9.890000   \n",
              "                                   2017                               8.420000   \n",
              "                                   2018                               9.890000   \n",
              "XL AIRWAYS            XLF          2012                               9.760000   \n",
              "                                   2014                               9.440000   \n",
              "                                   2016                               9.790000   \n",
              "                                   2017                               9.756667   \n",
              "                                   2018                               9.790000   \n",
              "\n",
              "                                         total_noise_exceedances  \\\n",
              "airline               airline_code year                            \n",
              "ACM AVIATION          BJT          2009                 1.000000   \n",
              "AER LINGUS            EIN          2008                 1.250000   \n",
              "                                   2009                 1.000000   \n",
              "                                   2014                 1.000000   \n",
              "                                   2015                 1.000000   \n",
              "                                   2017                 1.000000   \n",
              "                                   2018                 2.500000   \n",
              "AEROMEXICO            AMX          2009                 7.000000   \n",
              "                                   2010                 8.666667   \n",
              "                                   2011                 6.333333   \n",
              "                                   2012                 6.833333   \n",
              "                                   2013                 8.083333   \n",
              "                                   2014                10.583333   \n",
              "                                   2015                 8.500000   \n",
              "                                   2016                22.000000   \n",
              "                                   2017                41.083333   \n",
              "                                   2018                34.500000   \n",
              "AEROUNION             TNO          2009                 1.000000   \n",
              "AIR BERLIN            BER          2011                 2.000000   \n",
              "                                   2012                 1.000000   \n",
              "                                   2016                 1.000000   \n",
              "                                   2017                 6.000000   \n",
              "AIR CANADA            ACA          2006                 7.166667   \n",
              "                                   2007                11.750000   \n",
              "                                   2008                 6.166667   \n",
              "                                   2009                11.545455   \n",
              "                                   2010                 8.333333   \n",
              "                                   2011                10.250000   \n",
              "                                   2012                12.500000   \n",
              "                                   2013                13.750000   \n",
              "...                                                          ...   \n",
              "VOLARIS               VOI          2016                10.000000   \n",
              "                                   2017                 2.500000   \n",
              "                                   2018                 5.727273   \n",
              "VOLGA-DNEPR           VDA          2007                 1.000000   \n",
              "                                   2017                 2.500000   \n",
              "                                   2018                 2.000000   \n",
              "WESTJET AIRLINES      WJA          2006                 1.000000   \n",
              "                                   2009                 2.000000   \n",
              "                                   2010                11.000000   \n",
              "                                   2011                 1.000000   \n",
              "                                   2012                 1.000000   \n",
              "                                   2013                 4.333333   \n",
              "                                   2014                 4.666667   \n",
              "                                   2015                 5.600000   \n",
              "                                   2016                12.500000   \n",
              "                                   2017                12.000000   \n",
              "                                   2018                 4.000000   \n",
              "WORLD AIRWAYS         WOA          2010                40.000000   \n",
              "                                   2011                47.250000   \n",
              "                                   2012                47.900000   \n",
              "WORLDWIDE JET CHARTER WWI          2006                 1.000000   \n",
              "                                   2007                 1.000000   \n",
              "WOW AIR               WOW          2016                 1.250000   \n",
              "                                   2017                17.000000   \n",
              "                                   2018                 1.500000   \n",
              "XL AIRWAYS            XLF          2012                 1.000000   \n",
              "                                   2014                 2.666667   \n",
              "                                   2016                 1.500000   \n",
              "                                   2017                 1.000000   \n",
              "                                   2018                 1.000000   \n",
              "\n",
              "                                         total_operations_per_month  \n",
              "airline               airline_code year                              \n",
              "ACM AVIATION          BJT          2009                   12.000000  \n",
              "AER LINGUS            EIN          2008                   46.000000  \n",
              "                                   2009                   34.000000  \n",
              "                                   2014                   42.000000  \n",
              "                                   2015                   44.000000  \n",
              "                                   2017                   56.000000  \n",
              "                                   2018                   59.000000  \n",
              "AEROMEXICO            AMX          2009                   58.909091  \n",
              "                                   2010                   61.250000  \n",
              "                                   2011                   70.083333  \n",
              "                                   2012                   61.416667  \n",
              "                                   2013                   94.916667  \n",
              "                                   2014                  181.916667  \n",
              "                                   2015                  170.250000  \n",
              "                                   2016                  168.333333  \n",
              "                                   2017                  202.333333  \n",
              "                                   2018                  186.500000  \n",
              "AEROUNION             TNO          2009                    1.000000  \n",
              "AIR BERLIN            BER          2011                   16.000000  \n",
              "                                   2012                   26.000000  \n",
              "                                   2016                   44.000000  \n",
              "                                   2017                   58.000000  \n",
              "AIR CANADA            ACA          2006                  468.500000  \n",
              "                                   2007                  511.666667  \n",
              "                                   2008                  477.916667  \n",
              "                                   2009                  494.272727  \n",
              "                                   2010                  495.750000  \n",
              "                                   2011                  482.166667  \n",
              "                                   2012                  465.166667  \n",
              "                                   2013                  484.916667  \n",
              "...                                                             ...  \n",
              "VOLARIS               VOI          2016                   97.500000  \n",
              "                                   2017                   69.500000  \n",
              "                                   2018                   39.636364  \n",
              "VOLGA-DNEPR           VDA          2007                    2.000000  \n",
              "                                   2017                    7.000000  \n",
              "                                   2018                    2.000000  \n",
              "WESTJET AIRLINES      WJA          2006                    8.000000  \n",
              "                                   2009                   19.000000  \n",
              "                                   2010                   77.000000  \n",
              "                                   2011                  121.500000  \n",
              "                                   2012                  122.000000  \n",
              "                                   2013                  119.166667  \n",
              "                                   2014                  119.166667  \n",
              "                                   2015                  121.400000  \n",
              "                                   2016                  116.333333  \n",
              "                                   2017                  180.000000  \n",
              "                                   2018                  179.000000  \n",
              "WORLD AIRWAYS         WOA          2010                   14.000000  \n",
              "                                   2011                   26.750000  \n",
              "                                   2012                   25.300000  \n",
              "WORLDWIDE JET CHARTER WWI          2006                   10.000000  \n",
              "                                   2007                   16.000000  \n",
              "WOW AIR               WOW          2016                   42.000000  \n",
              "                                   2017                   46.300000  \n",
              "                                   2018                   46.500000  \n",
              "XL AIRWAYS            XLF          2012                   16.000000  \n",
              "                                   2014                   17.333333  \n",
              "                                   2016                   25.500000  \n",
              "                                   2017                   22.666667  \n",
              "                                   2018                   26.000000  \n",
              "\n",
              "[768 rows x 4 columns]"
            ]
          },
          "metadata": {
            "tags": []
          },
          "execution_count": 19
        }
      ]
    },
    {
      "metadata": {
        "id": "Oc2LfcogQ0kv",
        "colab_type": "code",
        "colab": {}
      },
      "cell_type": "code",
      "source": [
        "import matplotlib\n",
        "import matplotlib.pyplot as plt\n",
        "%matplotlib inline"
      ],
      "execution_count": 0,
      "outputs": []
    },
    {
      "metadata": {
        "scrolled": true,
        "id": "gBzTuWnFQ0k8",
        "colab_type": "code",
        "colab": {}
      },
      "cell_type": "code",
      "source": [
        "airline_table = rating_table[[\"airline_code\", \"noise_exceedance_quality_rating_score\"]]\n",
        "per_airline = airline_table.groupby([\"airline_code\"])\n",
        "avg_noise_airline = per_airline.mean()"
      ],
      "execution_count": 0,
      "outputs": []
    },
    {
      "metadata": {
        "id": "eXMcxFtEQ0lJ",
        "colab_type": "code",
        "colab": {},
        "outputId": "cab88987-3fbc-4ae8-8477-e8d5cb321ceb"
      },
      "cell_type": "code",
      "source": [
        "plt.figure()\n",
        "avg_noise_airline.plot()\n",
        "plt.title(\"Average Noise Quality for each Airline\\n\")\n",
        "plt.ylabel(\"Noise Rating Score\")\n",
        "plt.xlabel(\"Airline\")\n",
        "plt.show()"
      ],
      "execution_count": 0,
      "outputs": [
        {
          "output_type": "display_data",
          "data": {
            "text/plain": [
              "<matplotlib.figure.Figure at 0x2094b88ea90>"
            ]
          },
          "metadata": {
            "tags": []
          }
        },
        {
          "output_type": "display_data",
          "data": {
            "image/png": "[encoded data removed]",
            "text/plain": [
              "<matplotlib.figure.Figure at 0x2094b89d0b8>"
            ]
          },
          "metadata": {
            "tags": []
          }
        }
      ]
    },
    {
      "metadata": {
        "id": "4ed7MID8Q0lW",
        "colab_type": "code",
        "colab": {},
        "outputId": "fd8c0c96-42d2-486c-e0e5-efcb101a78d8"
      },
      "cell_type": "code",
      "source": [
        "avg_noise_airline.plot.hist()"
      ],
      "execution_count": 0,
      "outputs": [
        {
          "output_type": "execute_result",
          "data": {
            "text/plain": [
              "<matplotlib.axes._subplots.AxesSubplot at 0x2094c536a20>"
            ]
          },
          "metadata": {
            "tags": []
          },
          "execution_count": 42
        },
        {
          "output_type": "display_data",
          "data": {
            "image/png": "[encoded data removed]",
            "text/plain": [
              "<matplotlib.figure.Figure at 0x2094cf3f1d0>"
            ]
          },
          "metadata": {
            "tags": []
          }
        }
      ]
    },
    {
      "metadata": {
        "id": "RqpNuuTiQ0lj",
        "colab_type": "text"
      },
      "cell_type": "markdown",
      "source": [
        "From the histogram above we can see a skew (right) in the data, indicating that the majority of the airlines have good noise exceedance scores where 10 is equal to not exceeding the noise limit and 0 vice versa"
      ]
    },
    {
      "metadata": {
        "id": "FCVgpZoaQ0ln",
        "colab_type": "code",
        "colab": {}
      },
      "cell_type": "code",
      "source": [
        "year_table = rating_table[[\"year\",\"noise_exceedance_quality_rating_score\"]]\n",
        "per_year = year_table.groupby([\"year\"])\n",
        "avg_noise_year = per_year.mean()"
      ],
      "execution_count": 0,
      "outputs": []
    },
    {
      "metadata": {
        "id": "kFWQK-qdQ0lx",
        "colab_type": "code",
        "colab": {},
        "outputId": "c10e8198-1f33-4504-fbd1-94ea0f4ec0bb"
      },
      "cell_type": "code",
      "source": [
        "plt.figure()\n",
        "avg_noise_year.plot()\n",
        "plt.title(\"Average Noise Quality in each Year\\n\")\n",
        "plt.ylabel(\"Noise Rating Score\")\n",
        "plt.xlabel(\"Year\")\n",
        "plt.show()"
      ],
      "execution_count": 0,
      "outputs": [
        {
          "output_type": "display_data",
          "data": {
            "text/plain": [
              "<matplotlib.figure.Figure at 0x2094b88e358>"
            ]
          },
          "metadata": {
            "tags": []
          }
        },
        {
          "output_type": "display_data",
          "data": {
            "image/png": "[encoded data removed]",
            "text/plain": [
              "<matplotlib.figure.Figure at 0x2094b88eba8>"
            ]
          },
          "metadata": {
            "tags": []
          }
        }
      ]
    },
    {
      "metadata": {
        "id": "_KJXTYuQQ0l_",
        "colab_type": "text"
      },
      "cell_type": "markdown",
      "source": [
        "Another investigation carried out was looking at how the noise quality changed with each year. The graph above shows an overall improvement made by the airlines in 12 years. Additionally, we see that in 12 years the noise rating score has increased up to 0.6"
      ]
    },
    {
      "metadata": {
        "id": "nnE4saH3Q0mE",
        "colab_type": "code",
        "colab": {}
      },
      "cell_type": "code",
      "source": [
        "noise_table = rating_table[[\"noise_exceedance_quality_rating_score\",\"exceedances_per_1000_operations\", \"total_operations_per_month\"]]\n",
        "per_noise = noise_table.groupby([\"noise_exceedance_quality_rating_score\"])\n",
        "avg_noise = per_noise.mean()"
      ],
      "execution_count": 0,
      "outputs": []
    },
    {
      "metadata": {
        "id": "HQ5KJNAIQ0mP",
        "colab_type": "code",
        "colab": {},
        "outputId": "cfb4c347-5642-49ab-ba86-f63cb150c656"
      },
      "cell_type": "code",
      "source": [
        "plt.figure()\n",
        "\n",
        "ax = avg_noise.plot(secondary_y=[\"total_operations_per_month\"])\n",
        "ax.set_ylabel(\"exceedances_per_1000_operations\")\n",
        "ax.right_ax.set_ylabel(\"total_operations_per_month\")\n",
        "\n",
        "plt.title(\"Avg exceedances per 1000 operations and total operations per month per noise quality score\")\n",
        "plt.xlabel(\"Noise Quality Score\")\n",
        "\n",
        "plt.show()"
      ],
      "execution_count": 0,
      "outputs": [
        {
          "output_type": "display_data",
          "data": {
            "text/plain": [
              "<matplotlib.figure.Figure at 0x2094b9eceb8>"
            ]
          },
          "metadata": {
            "tags": []
          }
        },
        {
          "output_type": "display_data",
          "data": {
            "image/png": "[encoded data removed]",
            "text/plain": [
              "<matplotlib.figure.Figure at 0x2094ba77240>"
            ]
          },
          "metadata": {
            "tags": []
          }
        }
      ]
    },
    {
      "metadata": {
        "id": "rNySmez2Q0mt",
        "colab_type": "code",
        "colab": {},
        "outputId": "d7e3f35d-b433-41d6-9d95-6206c11b0186"
      },
      "cell_type": "code",
      "source": [
        "avg_noise.plot(subplots=True, figsize=(6, 6))"
      ],
      "execution_count": 0,
      "outputs": [
        {
          "output_type": "execute_result",
          "data": {
            "text/plain": [
              "array([<matplotlib.axes._subplots.AxesSubplot object at 0x000002094BD75668>,\n",
              "       <matplotlib.axes._subplots.AxesSubplot object at 0x000002094BDBE438>], dtype=object)"
            ]
          },
          "metadata": {
            "tags": []
          },
          "execution_count": 28
        },
        {
          "output_type": "display_data",
          "data": {
            "image/png": "[encoded data removed]",
            "text/plain": [
              "<matplotlib.figure.Figure at 0x2094b88e278>"
            ]
          },
          "metadata": {
            "tags": []
          }
        }
      ]
    },
    {
      "metadata": {
        "id": "t8yCDToDQ0m6",
        "colab_type": "text"
      },
      "cell_type": "markdown",
      "source": [
        "It is found that popular airlines tend to have good noise rating scores. We see that in the graph above as airlines that have more operations per month are the ones that have good score. we can imply that due to their high operations those airlines try to reduce the noise they incur on the environment."
      ]
    },
    {
      "metadata": {
        "id": "i11xDtCZQ0m-",
        "colab_type": "code",
        "colab": {},
        "outputId": "e4368a20-5573-4e2d-a1d9-a9b0bf92b64c"
      },
      "cell_type": "code",
      "source": [
        "avg_noise_ops = avg_noise[[\"exceedances_per_1000_operations\", \"total_operations_per_month\"]].groupby(\"total_operations_per_month\")\n",
        "\n",
        "plt.figure()\n",
        "avg_noise_ops.mean().plot()\n",
        "plt.title(\"Avg exceedances per 1000 operation as total operations per month increases\\n\")\n",
        "plt.xlabel(\"Total Operations per Month\")\n",
        "plt.ylabel(\"Exceedances per 1000 operations\")\n",
        "plt.show()"
      ],
      "execution_count": 0,
      "outputs": [
        {
          "output_type": "display_data",
          "data": {
            "text/plain": [
              "<matplotlib.figure.Figure at 0x2094bde2a58>"
            ]
          },
          "metadata": {
            "tags": []
          }
        },
        {
          "output_type": "display_data",
          "data": {
            "image/png": "[encoded data removed]",
            "text/plain": [
              "<matplotlib.figure.Figure at 0x2094b98b080>"
            ]
          },
          "metadata": {
            "tags": []
          }
        }
      ]
    },
    {
      "metadata": {
        "id": "acB4DEw5Q0nL",
        "colab_type": "code",
        "colab": {},
        "outputId": "82b74156-3ea2-4a9d-9961-a59fda1ae347"
      },
      "cell_type": "code",
      "source": [
        "#Investigate:Relationship with tot_operations and noise_quality score one.\n",
        "#Investigate: Relationship with airline_operator and noise_quality score\n",
        "avg_noise_exc = avg_noise[[\"exceedances_per_1000_operations\", \"total_operations_per_month\"]].groupby(\"exceedances_per_1000_operations\")"
      ],
      "execution_count": 0,
      "outputs": [
        {
          "output_type": "stream",
          "text": [
            "                                 total_operations_per_month\n",
            "exceedances_per_1000_operations                            \n",
            "5.561644                                        2810.184932\n"
          ],
          "name": "stdout"
        }
      ]
    },
    {
      "metadata": {
        "id": "W67am-ZlQ0nS",
        "colab_type": "code",
        "colab": {},
        "outputId": "69ccf9cb-819c-4bbf-a00d-215464f514e1"
      },
      "cell_type": "code",
      "source": [
        "plt.figure()\n",
        "avg_noise_exc.mean().plot()\n",
        "plt.title(\"Avg total operatons per month as exceedances per 1000 operation increases\\n\")\n",
        "plt.xlabel(\"Exceedances per 1000 operations\")\n",
        "plt.ylabel(\"Total Operations per Month\")\n",
        "plt.show()"
      ],
      "execution_count": 0,
      "outputs": [
        {
          "output_type": "display_data",
          "data": {
            "text/plain": [
              "<matplotlib.figure.Figure at 0x2094bd75b70>"
            ]
          },
          "metadata": {
            "tags": []
          }
        },
        {
          "output_type": "display_data",
          "data": {
            "image/png": "[encoded data removed]",
            "text/plain": [
              "<matplotlib.figure.Figure at 0x2094be3cc50>"
            ]
          },
          "metadata": {
            "tags": []
          }
        }
      ]
    }
  ]
}